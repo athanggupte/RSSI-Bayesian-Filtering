{
 "cells": [
  {
   "cell_type": "code",
   "execution_count": 4,
   "metadata": {},
   "outputs": [],
   "source": [
    "import matplotlib.pyplot as plot\n",
    "import numpy as np\n",
    "from scipy.stats import norm\n",
    "import math\n",
    "from filterpy.monte_carlo import systematic_resample, residual_resample\n",
    "import numpy.random as random"
   ]
  },
  {
   "cell_type": "code",
   "execution_count": 6,
   "metadata": {},
   "outputs": [],
   "source": [
    "def generate_particles(max_range, N):\n",
    "    particles = random.uniform(max_range[0], max_range[1], N)\n",
    "    return particles\n",
    "\n",
    "def neff(weights):\n",
    "    return 1. / np.sum(np.square(weights))"
   ]
  },
  {
   "cell_type": "code",
   "execution_count": 7,
   "metadata": {},
   "outputs": [],
   "source": [
    "def predict(particles, process_std):\n",
    "    N = len(particles)\n",
    "    particles += random.randn(N) * process_std\n",
    "\n",
    "def update(particles, value, weights, measured_std):\n",
    "    weights.fill(1.)\n",
    "    weights *= norm(value, measured_std).pdf(particles)\n",
    "    weights += 1.e-300\n",
    "    weights /= sum(weights)\n",
    "    \n",
    "def resample(particles, weights):\n",
    "    indexes = residual_resample(weights)\n",
    "    particles[:] = particles[indexes]\n",
    "    weights[:] = weights[indexes]\n",
    "    weights /= np.sum(weights)\n",
    "    \n",
    "def estimate(particles, weights):\n",
    "    mean = np.average(particles, weights=weights)\n",
    "    var = np.average((particles - mean)**2, weights=weights)\n",
    "    return mean, var"
   ]
  },
  {
   "cell_type": "code",
   "execution_count": 11,
   "metadata": {
    "scrolled": true
   },
   "outputs": [],
   "source": [
    "def particle_filter(distances, numParticles=1000, enable_neffing=False, enable_intermediate_plotting = False):\n",
    "    # Initialize\n",
    "    axis = np.arange(0, distances.size, 1)\n",
    "    data_std = np.std(distances)\n",
    "    \n",
    "    N = numParticles\n",
    "    Ntr = 3/4 * N\n",
    "    particles = generate_particles([0, 15], N)\n",
    "    weights = np.ones(N) / N\n",
    "    #particle_axis = np.ones(N)\n",
    "    particle_axis = np.arange(0, distances.size, distances.size/N)\n",
    "\n",
    "    X = np.empty((distances.size,))\n",
    "\n",
    "    if enable_intermediate_plotting:\n",
    "        plot.scatter(particle_axis, particle_axis, c=particle_axis)\n",
    "        plot.pause(0.01)\n",
    "\n",
    "    for i,value in enumerate(distances):\n",
    "        predict(particles, 0.04)\n",
    "        update(particles, value, weights, data_std)\n",
    "        resample(particles, weights)\n",
    "    \n",
    "        if enable_neffing:\n",
    "            Neff = neff(weights)\n",
    "            #print('Neff = ', Neff)\n",
    "            while (Neff < Ntr):\n",
    "                if enable_intermediate_plotting:\n",
    "                    plot.ylim(0.,10)\n",
    "                    plot.scatter(particle_axis, particles, c=weights, marker='x', s=1)\n",
    "                    plot.scatter(i, mean, color='r')\n",
    "                    plot.plot(axis, X, axis, distances)\n",
    "                    plot.pause(0.01)\n",
    "            \n",
    "                #print('Neffing')\n",
    "                resample(particles, weights)\n",
    "                update(particles, value, weights, data_std)\n",
    "                Neff = neff(weights)\n",
    "                #print('Recalibrated Neff : ', Neff)\n",
    "        \n",
    "        mean, var = estimate(particles, weights)\n",
    "        X[i] = mean\n",
    "        \n",
    "        if enable_intermediate_plotting:\n",
    "            if i%8==0:\n",
    "                plot.ylim(0.,10)\n",
    "                plot.scatter(particle_axis, particles, c=weights, marker='x', s=1)\n",
    "                plot.scatter(i, mean, color='r')\n",
    "                plot.plot(axis, X, axis, distances)\n",
    "                #plot.scatter(i, var, color='g')\n",
    "                plot.pause(0.01)\n",
    "                \n",
    "    plot.pause(0.01)\n",
    "    return X"
   ]
  }
 ],
 "metadata": {
  "kernelspec": {
   "display_name": "Python 3",
   "language": "python",
   "name": "python3"
  },
  "language_info": {
   "codemirror_mode": {
    "name": "ipython",
    "version": 3
   },
   "file_extension": ".py",
   "mimetype": "text/x-python",
   "name": "python",
   "nbconvert_exporter": "python",
   "pygments_lexer": "ipython3",
   "version": "3.7.4"
  }
 },
 "nbformat": 4,
 "nbformat_minor": 2
}
