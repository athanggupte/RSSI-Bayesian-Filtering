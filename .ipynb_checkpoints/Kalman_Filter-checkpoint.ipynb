{
 "cells": [
  {
   "cell_type": "code",
   "execution_count": null,
   "metadata": {},
   "outputs": [],
   "source": [
    "import numpy as np\n",
    "from scipy.stats import norm\n",
    "import math"
   ]
  },
  {
   "cell_type": "code",
   "execution_count": null,
   "metadata": {},
   "outputs": [],
   "source": [
    "def predict(x, P, Q):\n",
    "    _x_ = x\n",
    "    _P_ = P + Q\n",
    "    return _x_, _P_\n",
    "\n",
    "def update(x, P, y, R):\n",
    "    K = P/(P + R)\n",
    "    _x_ = x + K*(y - x)\n",
    "    _P_ = (1 - K)*P\n",
    "    return _x_, _P_, K"
   ]
  },
  {
   "cell_type": "code",
   "execution_count": null,
   "metadata": {},
   "outputs": [],
   "source": [
    "# Initialize\n",
    "def kalman(rssi_data):    \n",
    "    Q = 0.004\n",
    "    R = np.var(rssi_data)\n",
    "    #w = norm(loc=0., scale=math.sqrt(Q))\n",
    "    #v = norm(loc=0., scale=np.std(rssi_data))\n",
    "    \n",
    "    x = rssi_data[0]   # x0\n",
    "    P = R\n",
    "\n",
    "    #k = np.arange(-10, 10, .1)\n",
    "    \n",
    "    X = np.empty((rssi_data.size,), type(x))\n",
    "    P_arr = np.empty((rssi_data.size,), type(P))\n",
    "    K_arr = np.empty((rssi_data.size,), type(P))\n",
    "    idx = 0\n",
    "    \n",
    "    for y in rssi_data:\n",
    "        _x_,_P_ = predict(x, P, Q)\n",
    "        x,P,K = update(_x_, _P_, y, R)\n",
    "        X[idx] = x\n",
    "        P_arr[idx] = P\n",
    "        K_arr[idx] = K\n",
    "        idx = idx + 1\n",
    "        \n",
    "    return X"
   ]
  }
 ],
 "metadata": {
  "kernelspec": {
   "display_name": "Python 3",
   "language": "python",
   "name": "python3"
  },
  "language_info": {
   "codemirror_mode": {
    "name": "ipython",
    "version": 3
   },
   "file_extension": ".py",
   "mimetype": "text/x-python",
   "name": "python",
   "nbconvert_exporter": "python",
   "pygments_lexer": "ipython3",
   "version": "3.7.4"
  }
 },
 "nbformat": 4,
 "nbformat_minor": 2
}
